{
 "cells": [
  {
   "cell_type": "code",
   "execution_count": null,
   "metadata": {},
   "outputs": [],
   "source": [
    "# \"\"\"\n",
    "# This is Master's API interface.\n",
    "# You should not implement it, or speculate about its implementation\n",
    "# \"\"\"\n",
    "#class Master:\n",
    "#    def guess(self, word):\n",
    "#        \"\"\"\n",
    "#        :type word: str\n",
    "#        :rtype int\n",
    "#        \"\"\"\n",
    "\n",
    "from random import random\n",
    "\n",
    "class Solution:\n",
    "    def findSecretWord(self, wordlist, master):\n",
    "        while True:\n",
    "            candidate = wordlist[int(random() * len(wordlist))]\n",
    "            match = master.guess(candidate)\n",
    "            if match == 6:\n",
    "                break\n",
    "            wordlist = [w for w in wordlist if sum(1 if w[i]==candidate[i] else 0 for i in range(6)) == match]"
   ]
  }
 ],
 "metadata": {
  "kernelspec": {
   "display_name": "Python 3",
   "language": "python",
   "name": "python3"
  },
  "language_info": {
   "codemirror_mode": {
    "name": "ipython",
    "version": 3
   },
   "file_extension": ".py",
   "mimetype": "text/x-python",
   "name": "python",
   "nbconvert_exporter": "python",
   "pygments_lexer": "ipython3",
   "version": "3.6.3"
  }
 },
 "nbformat": 4,
 "nbformat_minor": 2
}

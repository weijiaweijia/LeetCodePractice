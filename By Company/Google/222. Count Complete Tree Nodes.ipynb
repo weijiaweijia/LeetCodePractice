{
 "cells": [
  {
   "cell_type": "code",
   "execution_count": null,
   "metadata": {},
   "outputs": [],
   "source": [
    "# Definition for a binary tree node.\n",
    "# class TreeNode:\n",
    "#     def __init__(self, x):\n",
    "#         self.val = x\n",
    "#         self.left = None\n",
    "#         self.right = None\n",
    "\n",
    "class Solution:\n",
    "    def countNodes(self, root: TreeNode) -> int:\n",
    "        # if not root:\n",
    "        #     return 0\n",
    "        # def dfs(node):\n",
    "        #     self.result.append(node.val)\n",
    "        #     if node.left:\n",
    "        #         dfs(node.left)\n",
    "        #     if node.right:\n",
    "        #         dfs(node.right)\n",
    "        # self.result = []\n",
    "        # dfs(root)\n",
    "        # return len(self.result)\n",
    "        return 1 + self.countNodes(root.right) + self.countNodes(root.left) if root else 0"
   ]
  }
 ],
 "metadata": {
  "kernelspec": {
   "display_name": "Python 3",
   "language": "python",
   "name": "python3"
  },
  "language_info": {
   "codemirror_mode": {
    "name": "ipython",
    "version": 3
   },
   "file_extension": ".py",
   "mimetype": "text/x-python",
   "name": "python",
   "nbconvert_exporter": "python",
   "pygments_lexer": "ipython3",
   "version": "3.6.3"
  }
 },
 "nbformat": 4,
 "nbformat_minor": 2
}

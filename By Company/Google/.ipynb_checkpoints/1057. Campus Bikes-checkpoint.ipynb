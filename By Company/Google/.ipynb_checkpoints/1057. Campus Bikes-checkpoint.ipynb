{
 "cells": [
  {
   "cell_type": "code",
   "execution_count": null,
   "metadata": {},
   "outputs": [],
   "source": [
    "class Solution:\n",
    "    def assignBikes(self, workers: List[List[int]], bikes: List[List[int]]) -> List[int]:\n",
    "        distances = []\n",
    "\t\t# create a list of distances for each worker-bike combination, \n",
    "\t\t# put distance in the first tuple element and worker index in second tuple element \n",
    "\t\t# and bike index in third. we will sort this list of tuples later.\n",
    "        for i, worker in enumerate(workers):\n",
    "            for j, bike in enumerate(bikes):\n",
    "                distance = abs(worker[0] - bike[0]) + abs(worker[1] - bike[1])\n",
    "                distances.append((distance, i, j))\n",
    "\t\t\t\t\n",
    "\t    # Sort the tuples\n",
    "        distances.sort()\n",
    "\n",
    "        result = [-1] * len(workers)\n",
    "        bike_taken = set() # Mark a bike as taken by putting it in this set as we traverse the tuples from shortest distance onwards.\n",
    "        for distance, i, j in distances:\n",
    "            if result[i] == -1 and j not in bike_taken:\n",
    "                result[i] = j\n",
    "                bike_taken.add(j)\n",
    "        return result"
   ]
  }
 ],
 "metadata": {
  "kernelspec": {
   "display_name": "Python 3",
   "language": "python",
   "name": "python3"
  },
  "language_info": {
   "codemirror_mode": {
    "name": "ipython",
    "version": 3
   },
   "file_extension": ".py",
   "mimetype": "text/x-python",
   "name": "python",
   "nbconvert_exporter": "python",
   "pygments_lexer": "ipython3",
   "version": "3.6.3"
  }
 },
 "nbformat": 4,
 "nbformat_minor": 2
}

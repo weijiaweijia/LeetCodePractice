{
 "cells": [
  {
   "cell_type": "code",
   "execution_count": null,
   "metadata": {},
   "outputs": [],
   "source": [
    "class Solution:\n",
    "    def splitArray(self, nums: List[int], m: int) -> int:\n",
    "        l, r = max(nums),sum(nums)\n",
    "        \n",
    "        def valid(mid):\n",
    "            count = 1\n",
    "            numsSum = 0\n",
    "            for num in nums:\n",
    "                if num + numsSum > mid:\n",
    "                    numsSum = 0\n",
    "                    count += 1\n",
    "                    if count > m:\n",
    "                        return False\n",
    "                numsSum += num\n",
    "            return True\n",
    "        \n",
    "        while l <= r:\n",
    "            mid = (l+r)//2\n",
    "            if valid(mid):\n",
    "                r = mid - 1\n",
    "            else:\n",
    "                l = mid + 1\n",
    "        return l"
   ]
  }
 ],
 "metadata": {
  "kernelspec": {
   "display_name": "Python 3",
   "language": "python",
   "name": "python3"
  },
  "language_info": {
   "codemirror_mode": {
    "name": "ipython",
    "version": 3
   },
   "file_extension": ".py",
   "mimetype": "text/x-python",
   "name": "python",
   "nbconvert_exporter": "python",
   "pygments_lexer": "ipython3",
   "version": "3.6.3"
  }
 },
 "nbformat": 4,
 "nbformat_minor": 2
}

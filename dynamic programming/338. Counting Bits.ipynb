{
 "cells": [
  {
   "cell_type": "code",
   "execution_count": null,
   "metadata": {
    "scrolled": false
   },
   "outputs": [],
   "source": [
    "# classical dp solution\n",
    "class Solution:\n",
    "    def countBits(self, num: int) -> List[int]:\n",
    "        result = [0]*(num+1)\n",
    "        for i in range(1, num+1):\n",
    "            result[i] = result[i & (i-1)] + 1\n",
    "        return result"
   ]
  },
  {
   "cell_type": "code",
   "execution_count": null,
   "metadata": {},
   "outputs": [],
   "source": [
    "# straightforward solution\n",
    "class Solution:\n",
    "    def CountBits(self, num: int) -> List[int]:\n",
    "        return [bin(i).count('1') for i in range(num+1)]"
   ]
  }
 ],
 "metadata": {
  "kernelspec": {
   "display_name": "Python 3",
   "language": "python",
   "name": "python3"
  },
  "language_info": {
   "codemirror_mode": {
    "name": "ipython",
    "version": 3
   },
   "file_extension": ".py",
   "mimetype": "text/x-python",
   "name": "python",
   "nbconvert_exporter": "python",
   "pygments_lexer": "ipython3",
   "version": "3.6.3"
  }
 },
 "nbformat": 4,
 "nbformat_minor": 2
}

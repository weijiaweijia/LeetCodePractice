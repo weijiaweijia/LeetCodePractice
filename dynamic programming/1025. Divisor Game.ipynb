{
 "cells": [
  {
   "cell_type": "code",
   "execution_count": 5,
   "metadata": {},
   "outputs": [],
   "source": [
    "# Classical dp solution\n",
    "class Solution:\n",
    "    def divisorGame(self, N: int) -> bool:\n",
    "        dp = [True] * (N + 1)\n",
    "        for i in range(1, N + 1):\n",
    "            if i % 2 == 0:\n",
    "                if (not dp[i // 2]) or (not dp[i - 1]):\n",
    "                    dp[i] = True\n",
    "                else:\n",
    "                    dp[i] = False\n",
    "            else:\n",
    "                dp[i] = not dp[i - 1]\n",
    "        return dp[N]"
   ]
  },
  {
   "cell_type": "code",
   "execution_count": 6,
   "metadata": {},
   "outputs": [],
   "source": [
    "# Math tric\n",
    "class Solution:\n",
    "    def divisorGame(self, N: int) -> bool:\n",
    "        return N % 2 == 0"
   ]
  },
  {
   "cell_type": "code",
   "execution_count": null,
   "metadata": {},
   "outputs": [],
   "source": []
  }
 ],
 "metadata": {
  "kernelspec": {
   "display_name": "Python 3",
   "language": "python",
   "name": "python3"
  },
  "language_info": {
   "codemirror_mode": {
    "name": "ipython",
    "version": 3
   },
   "file_extension": ".py",
   "mimetype": "text/x-python",
   "name": "python",
   "nbconvert_exporter": "python",
   "pygments_lexer": "ipython3",
   "version": "3.6.3"
  }
 },
 "nbformat": 4,
 "nbformat_minor": 2
}

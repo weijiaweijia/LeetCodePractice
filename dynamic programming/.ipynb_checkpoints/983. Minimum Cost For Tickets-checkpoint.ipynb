{
 "cells": [
  {
   "cell_type": "code",
   "execution_count": null,
   "metadata": {},
   "outputs": [],
   "source": [
    "from functools import lru_cache\n",
    "\n",
    "class Solution:\n",
    "    def mincostTickets(self, days: List[int], costs: List[int]) -> int:\n",
    "        dayset = set(days)\n",
    "        durations = [1, 7, 30]\n",
    "\n",
    "        @lru_cache(None)\n",
    "        def dp(i):\n",
    "            if i > 365:\n",
    "                return 0\n",
    "            elif i in dayset:\n",
    "                return min(dp(i + d) + c\n",
    "                           for c, d in zip(costs, durations))\n",
    "            else:\n",
    "                return dp(i + 1)\n",
    "\n",
    "        return dp(1)"
   ]
  }
 ],
 "metadata": {
  "kernelspec": {
   "display_name": "Python 3",
   "language": "python",
   "name": "python3"
  },
  "language_info": {
   "codemirror_mode": {
    "name": "ipython",
    "version": 3
   },
   "file_extension": ".py",
   "mimetype": "text/x-python",
   "name": "python",
   "nbconvert_exporter": "python",
   "pygments_lexer": "ipython3",
   "version": "3.6.3"
  }
 },
 "nbformat": 4,
 "nbformat_minor": 2
}

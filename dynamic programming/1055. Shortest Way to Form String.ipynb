{
 "cells": [
  {
   "cell_type": "code",
   "execution_count": null,
   "metadata": {},
   "outputs": [],
   "source": [
    "class Solution:\n",
    "    def shortestWay(self, source: str, target: str) -> int:\n",
    "        for i in target:\n",
    "            if i not in source:\n",
    "                return -1\n",
    "        res = 0\n",
    "        i, j = 0, 0\n",
    "        while j < len(target):\n",
    "            if i == 0:\n",
    "                res += 1\n",
    "            if source[i] == target[j]:\n",
    "                j += 1\n",
    "            i = (i+1) % len(source)\n",
    "        return res"
   ]
  }
 ],
 "metadata": {
  "kernelspec": {
   "display_name": "Python 3",
   "language": "python",
   "name": "python3"
  },
  "language_info": {
   "codemirror_mode": {
    "name": "ipython",
    "version": 3
   },
   "file_extension": ".py",
   "mimetype": "text/x-python",
   "name": "python",
   "nbconvert_exporter": "python",
   "pygments_lexer": "ipython3",
   "version": "3.6.3"
  }
 },
 "nbformat": 4,
 "nbformat_minor": 2
}

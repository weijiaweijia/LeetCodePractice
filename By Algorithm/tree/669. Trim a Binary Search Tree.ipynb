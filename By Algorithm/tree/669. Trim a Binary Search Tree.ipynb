{
 "cells": [
  {
   "cell_type": "code",
   "execution_count": null,
   "metadata": {},
   "outputs": [],
   "source": [
    "# Definition for a binary tree node.\n",
    "# class TreeNode:\n",
    "#     def __init__(self, x):\n",
    "#         self.val = x\n",
    "#         self.left = None\n",
    "#         self.right = None\n",
    "\n",
    "class Solution:\n",
    "    def trimBST(self, root, L, R):\n",
    "        \"\"\"\n",
    "        :type root: TreeNode\n",
    "        :type L: int\n",
    "        :type R: int\n",
    "        :rtype: TreeNode\n",
    "        \"\"\"\n",
    "        def trim(node):\n",
    "            if not node:\n",
    "                return None\n",
    "            elif node.val > R:\n",
    "                return trim(node.left)\n",
    "            elif node.val < L:\n",
    "                return trim(node.right)\n",
    "            else:\n",
    "                node.left = trim(node.left)\n",
    "                node.right = trim(node.right)\n",
    "                return node\n",
    "\n",
    "        return trim(root)"
   ]
  }
 ],
 "metadata": {
  "kernelspec": {
   "display_name": "Python 3",
   "language": "python",
   "name": "python3"
  },
  "language_info": {
   "codemirror_mode": {
    "name": "ipython",
    "version": 3
   },
   "file_extension": ".py",
   "mimetype": "text/x-python",
   "name": "python",
   "nbconvert_exporter": "python",
   "pygments_lexer": "ipython3",
   "version": "3.6.3"
  }
 },
 "nbformat": 4,
 "nbformat_minor": 2
}

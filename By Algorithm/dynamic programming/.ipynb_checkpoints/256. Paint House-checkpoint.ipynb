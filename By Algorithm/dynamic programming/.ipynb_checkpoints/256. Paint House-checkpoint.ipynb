{
 "cells": [
  {
   "cell_type": "code",
   "execution_count": null,
   "metadata": {},
   "outputs": [],
   "source": [
    "class solution:\n",
    "    def minCost(self, costs: list[list[int]]) -> int:\n",
    "        if not costs: return 0\n",
    "    \n",
    "        for i in range(1, len(costs)):\n",
    "            costs[i][0] += min(costs[i-1][1], costs[i-1][2])\n",
    "            costs[i][1] += min(costs[i-1][0], costs[i-1][2])\n",
    "            costs[i][2] += min(costs[i-1][1], costs[i-1][0])\n",
    "        \n",
    "        return min(costs[-1])"
   ]
  },
  {
   "cell_type": "code",
   "execution_count": null,
   "metadata": {},
   "outputs": [],
   "source": []
  }
 ],
 "metadata": {
  "kernelspec": {
   "display_name": "Python 3",
   "language": "python",
   "name": "python3"
  },
  "language_info": {
   "codemirror_mode": {
    "name": "ipython",
    "version": 3
   },
   "file_extension": ".py",
   "mimetype": "text/x-python",
   "name": "python",
   "nbconvert_exporter": "python",
   "pygments_lexer": "ipython3",
   "version": "3.6.3"
  }
 },
 "nbformat": 4,
 "nbformat_minor": 2
}

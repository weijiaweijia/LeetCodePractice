{
 "cells": [
  {
   "cell_type": "code",
   "execution_count": null,
   "metadata": {},
   "outputs": [],
   "source": [
    "class NumArray:\n",
    "\n",
    "    def __init__(self, nums: List[int]):\n",
    "        self.sums = [sum(nums[0:i+1]) for i in range(len(nums))]\n",
    "\n",
    "    def sumRange(self, i: int, j: int) -> int:\n",
    "        # return sum(self.nums[i:j+1])\n",
    "        if i>0:\n",
    "            return self.sums[j]-self.sums[i-1]\n",
    "        return self.sums[j]\n",
    "\n",
    "# Your NumArray object will be instantiated and called as such:\n",
    "# obj = NumArray(nums)\n",
    "# param_1 = obj.sumRange(i,j)"
   ]
  }
 ],
 "metadata": {
  "kernelspec": {
   "display_name": "Python 3",
   "language": "python",
   "name": "python3"
  },
  "language_info": {
   "codemirror_mode": {
    "name": "ipython",
    "version": 3
   },
   "file_extension": ".py",
   "mimetype": "text/x-python",
   "name": "python",
   "nbconvert_exporter": "python",
   "pygments_lexer": "ipython3",
   "version": "3.6.3"
  }
 },
 "nbformat": 4,
 "nbformat_minor": 2
}

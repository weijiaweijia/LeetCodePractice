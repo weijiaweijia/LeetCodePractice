{
 "cells": [
  {
   "cell_type": "code",
   "execution_count": null,
   "metadata": {},
   "outputs": [],
   "source": [
    "class Solution:\n",
    "    def minFallingPathSum(self, A: List[List[int]]) -> int:\n",
    "        for row in reversed(range(len(A)-1)):\n",
    "            for col in range(len(A[row])):\n",
    "                if col == 0:\n",
    "                    A[row][col] += min(A[row+1][col], A[row+1][col+1])\n",
    "                elif col == len(A[row])-1:\n",
    "                    A[row][col] += min(A[row+1][col], A[row+1][col-1])\n",
    "                else:\n",
    "                    A[row][col] += min(A[row+1][col], A[row+1][col-1], A[row+1][col+1])\n",
    "        return min(A[0])"
   ]
  }
 ],
 "metadata": {
  "kernelspec": {
   "display_name": "Python 3",
   "language": "python",
   "name": "python3"
  },
  "language_info": {
   "codemirror_mode": {
    "name": "ipython",
    "version": 3
   },
   "file_extension": ".py",
   "mimetype": "text/x-python",
   "name": "python",
   "nbconvert_exporter": "python",
   "pygments_lexer": "ipython3",
   "version": "3.6.3"
  }
 },
 "nbformat": 4,
 "nbformat_minor": 2
}

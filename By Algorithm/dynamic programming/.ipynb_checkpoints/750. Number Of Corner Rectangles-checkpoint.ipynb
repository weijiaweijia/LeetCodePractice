{
 "cells": [
  {
   "cell_type": "code",
   "execution_count": null,
   "metadata": {},
   "outputs": [],
   "source": [
    "class Solution:\n",
    "    def countCornerRectangles(self, grid: List[List[int]]) -> int:\n",
    "        dp = [[0 for x in range(len(grid[0]))] for y in range(len(grid))]\n",
    "        res = [[0 for x in range(len(grid[0]))] for y in range(len(grid))]\n",
    "        for i in range(0, len(grid)):\n",
    "            for j in range(0, len(grid[0]) - 1):\n",
    "                for k in range (j+1, len(grid[0])):\n",
    "                    if grid[i][j] == 1 and grid[i][k] == 1:\n",
    "                        res[j][k] += dp[j][k]\n",
    "                        dp[j][k] += 1\n",
    "        result = 0\n",
    "        for r in range(0, len(res)):\n",
    "            for s in range(0, len(res[0])):\n",
    "                result += res[r][s]\n",
    "        return result"
   ]
  }
 ],
 "metadata": {
  "kernelspec": {
   "display_name": "Python 3",
   "language": "python",
   "name": "python3"
  },
  "language_info": {
   "codemirror_mode": {
    "name": "ipython",
    "version": 3
   },
   "file_extension": ".py",
   "mimetype": "text/x-python",
   "name": "python",
   "nbconvert_exporter": "python",
   "pygments_lexer": "ipython3",
   "version": "3.6.3"
  }
 },
 "nbformat": 4,
 "nbformat_minor": 2
}

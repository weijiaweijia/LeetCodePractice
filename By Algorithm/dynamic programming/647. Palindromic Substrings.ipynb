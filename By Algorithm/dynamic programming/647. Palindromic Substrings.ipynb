{
 "cells": [
  {
   "cell_type": "code",
   "execution_count": null,
   "metadata": {},
   "outputs": [],
   "source": [
    "class Solution:\n",
    "# dp: if s[i]==s[j]: dp[k][i][j] = dp[k-1][i+1][j-1] \n",
    "# beacuse k is arbitrary, dp[k][i][j] = dp[k-1][i][j]\n",
    "# new dp: if s[i]==s[j] dp[i][j] = dp[i+1][j-1] \n",
    "    def countSubstrings(self, s: str) -> int:\n",
    "        length = len(s)\n",
    "        dp = [[0]*length for i in range(length)]\n",
    "        for i in range(length-1,-1,-1):\n",
    "            for j in range(i,length):\n",
    "                if i==j or (i+1 == j and s[i] == s[j]):\n",
    "                    dp[i][j] = 1\n",
    "                elif i+1<=j-1 and s[i] == s[j]:\n",
    "                    dp[i][j] = dp[i+1][j-1]\n",
    "      \n",
    "        return sum([sum(row) for row in dp]) "
   ]
  }
 ],
 "metadata": {
  "kernelspec": {
   "display_name": "Python 3",
   "language": "python",
   "name": "python3"
  },
  "language_info": {
   "codemirror_mode": {
    "name": "ipython",
    "version": 3
   },
   "file_extension": ".py",
   "mimetype": "text/x-python",
   "name": "python",
   "nbconvert_exporter": "python",
   "pygments_lexer": "ipython3",
   "version": "3.6.3"
  }
 },
 "nbformat": 4,
 "nbformat_minor": 2
}

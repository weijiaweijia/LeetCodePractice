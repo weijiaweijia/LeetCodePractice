{
 "cells": [
  {
   "cell_type": "code",
   "execution_count": null,
   "metadata": {},
   "outputs": [],
   "source": [
    "from functools import lru_cache\n",
    "\n",
    "class Solution:\n",
    "\n",
    "    def stoneGame(self, piles: List[int]) -> bool:\n",
    "        # return True\n",
    "        N = len(piles)\n",
    "\n",
    "        @lru_cache(None)\n",
    "        def dp(i, j):\n",
    "            if i > j: return 0\n",
    "            parity = (j - i - N) % 2\n",
    "            if parity == 1:  # first player\n",
    "                return max(piles[i] + dp(i+1,j), piles[j] + dp(i,j-1))\n",
    "            else:\n",
    "                return min(-piles[i] + dp(i+1,j), -piles[j] + dp(i,j-1))\n",
    "\n",
    "        return dp(0, N - 1) > 0"
   ]
  }
 ],
 "metadata": {
  "kernelspec": {
   "display_name": "Python 3",
   "language": "python",
   "name": "python3"
  },
  "language_info": {
   "codemirror_mode": {
    "name": "ipython",
    "version": 3
   },
   "file_extension": ".py",
   "mimetype": "text/x-python",
   "name": "python",
   "nbconvert_exporter": "python",
   "pygments_lexer": "ipython3",
   "version": "3.6.3"
  }
 },
 "nbformat": 4,
 "nbformat_minor": 2
}

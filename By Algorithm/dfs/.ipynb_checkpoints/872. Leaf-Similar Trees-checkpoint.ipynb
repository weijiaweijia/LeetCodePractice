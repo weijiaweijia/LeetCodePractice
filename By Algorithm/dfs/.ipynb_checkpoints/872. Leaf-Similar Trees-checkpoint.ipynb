{
 "cells": [
  {
   "cell_type": "code",
   "execution_count": null,
   "metadata": {},
   "outputs": [],
   "source": [
    "# Definition for a binary tree node.\n",
    "# class TreeNode:\n",
    "#     def __init__(self, x):\n",
    "#         self.val = x\n",
    "#         self.left = None\n",
    "#         self.right = None\n",
    "\n",
    "class Solution:\n",
    "    def leafSimilar(self, root1: TreeNode, root2: TreeNode) -> bool:\n",
    "        def findLeaf(node,result):\n",
    "            if not node:\n",
    "                return\n",
    "            if node.left:\n",
    "                findLeaf(node.left,result)\n",
    "            if node.right:\n",
    "                findLeaf(node.right,result)\n",
    "            if not node.left and not node.right:\n",
    "                result.append(node.val)\n",
    "        result1,result2 = [],[]\n",
    "        findLeaf(root1,result1)\n",
    "        findLeaf(root2,result2)\n",
    "        return result1==result2"
   ]
  }
 ],
 "metadata": {
  "kernelspec": {
   "display_name": "Python 3",
   "language": "python",
   "name": "python3"
  },
  "language_info": {
   "codemirror_mode": {
    "name": "ipython",
    "version": 3
   },
   "file_extension": ".py",
   "mimetype": "text/x-python",
   "name": "python",
   "nbconvert_exporter": "python",
   "pygments_lexer": "ipython3",
   "version": "3.6.3"
  }
 },
 "nbformat": 4,
 "nbformat_minor": 2
}
